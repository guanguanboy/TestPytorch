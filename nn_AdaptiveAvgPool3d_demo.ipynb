{
 "cells": [
  {
   "cell_type": "markdown",
   "metadata": {},
   "source": [
    "# AdaptiveAvgPool3d的使用\n",
    "- Applies a 3D adaptive average pooling over an input signal composed of several input planes.\n",
    "\n",
    "    The output is of size D x H x W, for any input size.\n",
    "    The number of output features is equal to the number of input planes.\n",
    "\n",
    "    Args:\n",
    "        output_size: the target output size of the form D x H x W.\n",
    "                     Can be a tuple (D, H, W) or a single number D for a cube D x D x D.\n",
    "                     D, H and W can be either a ``int``, or ``None`` which means the size will\n",
    "                     be the same as that of the input.\n",
    "    参数为输出的大小，如果参数为1，则表示输出大小为1x1x1的cube\n"
   ]
  },
  {
   "cell_type": "code",
   "execution_count": 5,
   "metadata": {},
   "outputs": [
    {
     "name": "stdout",
     "output_type": "stream",
     "text": [
      "torch.Size([1, 64, 5, 7, 9])\n",
      "torch.Size([1, 64, 7, 7, 7])\n",
      "torch.Size([1, 64, 7, 9, 8])\n",
      "torch.Size([1, 64, 1, 1, 1])\n"
     ]
    }
   ],
   "source": [
    "import torch\n",
    "import torch.nn as nn\n",
    "\n",
    "# target output size of 5x7x9\n",
    "m = nn.AdaptiveAvgPool3d((5,7,9))\n",
    "input = torch.randn(1, 64, 8, 9, 10)\n",
    "\n",
    "output = m(input)\n",
    "print(output.shape) #torch.Size([1, 64, 5, 7, 9])\n",
    "\n",
    "# target output size of 7x7x7 (cube)\n",
    "m = nn.AdaptiveAvgPool3d(7)\n",
    "input = torch.randn(1, 64, 10, 9, 8)\n",
    "output = m(input)\n",
    "\n",
    "print(output.shape) #torch.Size([1, 64, 7, 7, 7])\n",
    "\n",
    "m = nn.AdaptiveMaxPool3d((7, None, None)) #None 可以让该维度保持不变\n",
    "output = m(input)\n",
    "\n",
    "print(output.shape) #torch.Size([1, 64, 7, 9, 8])\n",
    "\n",
    "m = nn.AdaptiveMaxPool3d(1)\n",
    "output = m(input)\n",
    "print(output.shape) #torch.Size([1, 64, 1, 1, 1])"
   ]
  }
 ],
 "metadata": {
  "kernelspec": {
   "display_name": "Python 3",
   "language": "python",
   "name": "python3"
  },
  "language_info": {
   "codemirror_mode": {
    "name": "ipython",
    "version": 3
   },
   "file_extension": ".py",
   "mimetype": "text/x-python",
   "name": "python",
   "nbconvert_exporter": "python",
   "pygments_lexer": "ipython3",
   "version": "3.8.3"
  }
 },
 "nbformat": 4,
 "nbformat_minor": 4
}
