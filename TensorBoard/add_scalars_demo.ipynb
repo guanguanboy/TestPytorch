{
 "cells": [
  {
   "cell_type": "markdown",
   "metadata": {},
   "source": [
    "# add_scalars\n",
    "\n",
    "- Adds many scalar data to summary.\n",
    "- Note that this function also keeps logged scalars in memory. In extreme case it explodes your RAM.\n",
    "- 适用于在同一个plot上面画不同的统计信息，最适合的就是在gan的训练过程中同时跟踪generator loss 和 discriminator loss"
   ]
  },
  {
   "cell_type": "code",
   "execution_count": 4,
   "metadata": {},
   "outputs": [],
   "source": [
    "import numpy as np\n",
    "from torch.utils.tensorboard import SummaryWriter\n",
    "\n",
    "writer = SummaryWriter()\n",
    "r = 5\n",
    "for i in range(100):\n",
    "    writer.add_scalars('run_14h', {'xsinx':i*np.sin(i/r),\n",
    "                                    'xcosx':i*np.cos(i/r),\n",
    "                                    'tanx': np.tan(i/r)}, i)\n",
    "writer.close()\n",
    "# This call adds three values to the same scalar plot with the tag\n",
    "# 'run_14h' in TensorBoard's scalar section."
   ]
  },
  {
   "cell_type": "markdown",
   "metadata": {},
   "source": [
    "## 启动tensorboard\n",
    "\n",
    "### 在windows端\n",
    "tensorboard --logdir runs\n",
    "\n",
    "### 在linux服务器端\n",
    "tensorboard --logdir runs --bind_all \n",
    "\n",
    "--bind_all 的作用是将服务暴露到网络中来\n",
    "to expose to the network, use a proxy or pass --bind_all\n",
    "\n"
   ]
  }
 ],
 "metadata": {
  "kernelspec": {
   "display_name": "Python 3",
   "language": "python",
   "name": "python3"
  },
  "language_info": {
   "codemirror_mode": {
    "name": "ipython",
    "version": 3
   },
   "file_extension": ".py",
   "mimetype": "text/x-python",
   "name": "python",
   "nbconvert_exporter": "python",
   "pygments_lexer": "ipython3",
   "version": "3.8.3"
  }
 },
 "nbformat": 4,
 "nbformat_minor": 4
}
