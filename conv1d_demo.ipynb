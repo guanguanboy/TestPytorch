{
 "cells": [
  {
   "cell_type": "markdown",
   "metadata": {},
   "source": [
    "# 深入分析一维卷积nn.Conv1d\n",
    "\n",
    "- Applies a 1D convolution over an input signal composed of several input planes\n",
    "\n",
    "- 因为一维卷积是在最后维度上扫的\n",
    "\n",
    "Shape:\n",
    "    - Input: :math:`(N, C_{in}, L_{in})`\n",
    "    - Output: :math:`(N, C_{out}, L_{out})` where\n",
    "\n",
    "      .. math::\n",
    "          L_{out} = \\left\\lfloor\\frac{L_{in} + 2 \\times \\text{padding} - \\text{dilation}\n",
    "                    \\times (\\text{kernel\\_size} - 1) - 1}{\\text{stride}} + 1\\right\\rfloor\n",
    "                    \n",
    " Lout = (Lin + 2*padding - kernel_size)/stride + 1\n",
    " \n",
    " - https://www.jianshu.com/p/45a26d278473\n",
    " - https://blog.csdn.net/sunny_xsc1994/article/details/82969867\n"
   ]
  },
  {
   "cell_type": "code",
   "execution_count": 2,
   "metadata": {},
   "outputs": [
    {
     "name": "stdout",
     "output_type": "stream",
     "text": [
      "torch.Size([20, 33, 24])\n"
     ]
    }
   ],
   "source": [
    "import torch\n",
    "import torch.nn as nn\n",
    "\n",
    "m = nn.Conv1d(16, 33, 3, stride=2)\n",
    "input = torch.randn(20, 16, 50)\n",
    "output = m(input)\n",
    "print(output.shape) #torch.Size([20, 33, 24])"
   ]
  },
  {
   "cell_type": "code",
   "execution_count": 3,
   "metadata": {},
   "outputs": [
    {
     "name": "stdout",
     "output_type": "stream",
     "text": [
      "torch.Size([32, 100, 34])\n"
     ]
    }
   ],
   "source": [
    "conv1 = nn.Conv1d(in_channels=256, out_channels=100, kernel_size=2)\n",
    "input = torch.randn(32, 35, 256)\n",
    "input = input.permute(0, 2, 1)\n",
    "output = conv1(input)\n",
    "print(output.shape) #torch.Size([32, 100, 34])"
   ]
  },
  {
   "cell_type": "markdown",
   "metadata": {},
   "source": [
    "- https://zhuanlan.zhihu.com/p/95058866"
   ]
  },
  {
   "cell_type": "code",
   "execution_count": 5,
   "metadata": {},
   "outputs": [
    {
     "name": "stdout",
     "output_type": "stream",
     "text": [
      "tensor([[[ 0.2980,  0.8890, -1.0207,  0.0048, -1.5680],\n",
      "         [ 0.9014, -0.0611, -1.7504,  1.8949,  1.3272],\n",
      "         [ 0.6532,  0.7666, -0.1821, -0.9661, -0.8479]],\n",
      "\n",
      "        [[ 1.1901, -0.1082,  0.2811,  0.4050,  0.6459],\n",
      "         [-1.8951,  1.3657,  0.0817, -0.2505,  1.3262],\n",
      "         [-0.7289,  0.7029, -0.1290,  1.3243,  1.6987]],\n",
      "\n",
      "        [[ 1.6219, -0.7685,  0.6586,  0.5177,  0.4853],\n",
      "         [-1.2502, -1.5531,  0.7366,  1.3908,  0.0130],\n",
      "         [ 0.8433,  2.1201, -0.5631,  0.1811,  0.6003]],\n",
      "\n",
      "        [[ 0.4281, -0.3957, -0.1020,  0.3739,  0.8017],\n",
      "         [-0.6138,  0.7726, -0.7125, -0.3438, -0.5221],\n",
      "         [ 0.1540,  0.6445, -1.5034, -0.4924, -0.1901]]])\n",
      "tensor([[[-0.1400, -0.6371,  0.9192, -0.0672],\n",
      "         [-0.3466, -0.2039,  0.0204, -1.6519]],\n",
      "\n",
      "        [[ 0.4099, -0.0659, -0.3831,  0.5532],\n",
      "         [ 0.4075, -0.7434, -0.2170,  0.4336]],\n",
      "\n",
      "        [[-0.6608,  0.9592,  0.2161, -0.2861],\n",
      "         [ 0.7154,  0.7069, -0.6606, -0.7025]],\n",
      "\n",
      "        [[ 0.1936, -0.1555, -0.3915, -0.2888],\n",
      "         [ 0.0040, -0.7976, -0.5804, -0.3078]]], grad_fn=<SqueezeBackward1>)\n"
     ]
    }
   ],
   "source": [
    "m = nn.Conv1d(3,2,2)\n",
    "input = torch.randn(4,3,5)\n",
    "print(input)\n",
    "output = m(input)\n",
    "print(output)"
   ]
  }
 ],
 "metadata": {
  "kernelspec": {
   "display_name": "Python 3",
   "language": "python",
   "name": "python3"
  },
  "language_info": {
   "codemirror_mode": {
    "name": "ipython",
    "version": 3
   },
   "file_extension": ".py",
   "mimetype": "text/x-python",
   "name": "python",
   "nbconvert_exporter": "python",
   "pygments_lexer": "ipython3",
   "version": "3.8.3"
  }
 },
 "nbformat": 4,
 "nbformat_minor": 4
}
