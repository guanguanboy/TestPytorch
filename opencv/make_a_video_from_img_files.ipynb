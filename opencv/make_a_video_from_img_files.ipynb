{
 "cells": [
  {
   "cell_type": "markdown",
   "metadata": {},
   "source": [
    "## 将图片合成视频\n",
    "\n",
    "- https://blog.csdn.net/haiziccc/article/details/101675468"
   ]
  },
  {
   "cell_type": "code",
   "execution_count": 10,
   "metadata": {},
   "outputs": [
    {
     "name": "stdout",
     "output_type": "stream",
     "text": [
      "448\n",
      "<class 'list'>\n",
      "0.png\n"
     ]
    }
   ],
   "source": [
    "import os\n",
    "import cv2\n",
    "import numpy as np\n",
    "\n",
    "file_dir='D:/DataSets/hyperspectraldatasets/424capture/lowlight_Apple_2021-04-24_08-42-16/splitedrgb/'\n",
    "img_path_name_list = os.listdir(file_dir) #Return a list containing the names of the files in the directory.\n",
    "print(len(img_path_name_list))\n",
    "print(type(img_path_name_list))\n",
    "print(img_path_name_list[0])\n",
    "video = cv2.VideoWriter('D:/Codes/PycharmProjects/TestPytorch/opencv/hyper.avi', cv2.VideoWriter_fourcc(*'MJPG'), fps=10, frameSize=(640, 480))\n",
    "for i in range(len(img_path_name_list)):\n",
    "    img = cv2.imread(file_dir + img_path_name_list[i], cv2.IMREAD_UNCHANGED)\n",
    "    img = img.astype(np.float32)\n",
    "    img = (img/2047)*255\n",
    "    img = img.astype(np.uint8) ##要将灰度图转换为rgb，需要灰度图为8位\n",
    "    \n",
    "    img = cv2.resize(img, (640, 480))\n",
    "    img_color = cv2.cvtColor(img, cv2.COLOR_GRAY2RGB) ##一定要转换成rgb24格式才可以写入cv2.VideoWriter\n",
    "\n",
    "    video.write(img_color)\n",
    "\n",
    "video.release()"
   ]
  }
 ],
 "metadata": {
  "kernelspec": {
   "display_name": "Python 3",
   "language": "python",
   "name": "python3"
  },
  "language_info": {
   "codemirror_mode": {
    "name": "ipython",
    "version": 3
   },
   "file_extension": ".py",
   "mimetype": "text/x-python",
   "name": "python",
   "nbconvert_exporter": "python",
   "pygments_lexer": "ipython3",
   "version": "3.8.3"
  }
 },
 "nbformat": 4,
 "nbformat_minor": 4
}
