{
 "cells": [
  {
   "cell_type": "markdown",
   "metadata": {},
   "source": [
    "3D卷积, 输入的shape是（N, Cin， D， H，W），输出的shape（N， Cout， Dout，Hout，Wout）。\n",
    "\n",
    "使用建议：\n",
    "N就是batch_size, 无话可说；Cin则对应着输入图像的通道数，如RGB\\BGR图像这一维度就是3；D则是深度，如果是对于视频序列使用的3d conv，那么这个D 实际对应的就是要执行卷积的frame_size，H，W对应的就是输入图像的高和宽。\n",
    "\n",
    "另外，使用的时候如果不指定具体size，如:padding=2，则是每一维度都为size是2的padding，也就是padding=(2,2,2)；如果指定每一维的padding的话则有就是指定的size，如:padding=(3,2,1)，则是分别是在三个维度上有3,2,1三种不同的padding，另外kernel和stride也是如此"
   ]
  },
  {
   "cell_type": "code",
   "execution_count": 1,
   "metadata": {},
   "outputs": [
    {
     "name": "stdout",
     "output_type": "stream",
     "text": [
      "torch.Size([32, 64, 5, 112, 112])\n",
      "torch.Size([32, 64, 9, 112, 112])\n"
     ]
    }
   ],
   "source": [
    "import torch\n",
    "import torch.nn as nn\n",
    "\n",
    "# Sample intput | 随机输入\n",
    "net_input = torch.randn(32, 3, 10, 224, 224)\n",
    "\n",
    "# With square kernels and equal stride | 所有维度同一个参数配置\n",
    "conv = nn.Conv3d(3, 64, kernel_size=3, stride=2, padding=1)\n",
    "net_output = conv(net_input)\n",
    "print(net_output.shape)  # shape=[32, 64, 5, 112, 112] | 相当于每一个维度上的卷积核大小都是3，步长都是2，pad都是1\n",
    "\n",
    "# non-square kernels and unequal stride and with padding | 每一维度不同参数配置\n",
    "conv = nn.Conv3d(3, 64, (2, 3, 3), stride=(1, 2, 2), padding=(0, 1, 1))\n",
    "net_output = conv(net_input)\n",
    "print(net_output.shape) # shape=[32, 64, 9, 112, 112] 9 = (10 - 2)/1 + 1\n"
   ]
  },
  {
   "cell_type": "code",
   "execution_count": 3,
   "metadata": {},
   "outputs": [
    {
     "name": "stdout",
     "output_type": "stream",
     "text": [
      "torch.Size([28, 16, 1, 20, 20])\n",
      "torch.Size([28, 16, 1, 20, 20])\n"
     ]
    }
   ],
   "source": [
    "f3d_1 = nn.Conv3d(1, 16, (30, 3, 3), 1, (0, 1, 1))\n",
    "f3d_2 = nn.Conv3d(1, 16, (30, 7, 7), 1, (0, 3, 3))\n",
    "\n",
    "input = torch.randn(28, 1, 30, 20, 20)\n",
    "output_f3d_1 = f3d_1(input)\n",
    "print(output_f3d_1.shape)\n",
    "output_f3d_2 = f3d_2(input)\n",
    "print(output_f3d_2.shape)"
   ]
  }
 ],
 "metadata": {
  "kernelspec": {
   "display_name": "Python 3",
   "language": "python",
   "name": "python3"
  },
  "language_info": {
   "codemirror_mode": {
    "name": "ipython",
    "version": 3
   },
   "file_extension": ".py",
   "mimetype": "text/x-python",
   "name": "python",
   "nbconvert_exporter": "python",
   "pygments_lexer": "ipython3",
   "version": "3.8.3"
  }
 },
 "nbformat": 4,
 "nbformat_minor": 4
}
