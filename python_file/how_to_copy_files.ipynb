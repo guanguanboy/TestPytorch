{
 "cells": [
  {
   "cell_type": "markdown",
   "metadata": {},
   "source": [
    "# python中复制文件\n",
    "\n",
    "https://www.cnblogs.com/keeptg/p/10944109.html\n",
    "\n",
    "- Shutil Copy()方法\n",
    "- copyfile(source_file, [destination_file or dest_dir])\n",
    "- copy() 方法的功能类似于 Unix 中的“cp”命令。这意味着如果目标是一个文件夹，那么它将在其中创建一个与源文件具有相同名称（基本名称）的新文件。此外，该方法会在复制源文件的内容后同步目标文件权限到源文件。"
   ]
  },
  {
   "cell_type": "code",
   "execution_count": 8,
   "metadata": {},
   "outputs": [
    {
     "name": "stdout",
     "output_type": "stream",
     "text": [
      "Unable to copy file. '../celeba/identity_CelebA.txt' and '../python_file\\\\../celeba\\\\identity_CelebA.txt' are the same file\n"
     ]
    }
   ],
   "source": [
    "import os\n",
    "import shutil\n",
    "\n",
    "source = '../celeba/identity_CelebA.txt'\n",
    "target = '../python_file'\n",
    "\n",
    "assert not os.path.isabs(source)\n",
    "target = os.path.join(target, os.path.dirname(source))\n",
    "\n",
    "# create the folders if not already exists\n",
    "if not os.path.exists(target):\n",
    "    os.makedirs(target)\n",
    "\n",
    "# adding exception handling\n",
    "try:\n",
    "   shutil.copy(source, target)\n",
    "except IOError as e:\n",
    "   print(\"Unable to copy file. %s\" % e)\n",
    "except:\n",
    "   print(\"Unexpected error:\", sys.exc_info())"
   ]
  },
  {
   "cell_type": "code",
   "execution_count": null,
   "metadata": {},
   "outputs": [],
   "source": []
  }
 ],
 "metadata": {
  "kernelspec": {
   "display_name": "Python 3",
   "language": "python",
   "name": "python3"
  },
  "language_info": {
   "codemirror_mode": {
    "name": "ipython",
    "version": 3
   },
   "file_extension": ".py",
   "mimetype": "text/x-python",
   "name": "python",
   "nbconvert_exporter": "python",
   "pygments_lexer": "ipython3",
   "version": "3.8.3"
  }
 },
 "nbformat": 4,
 "nbformat_minor": 4
}
