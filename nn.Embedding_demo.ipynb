{
 "cells": [
  {
   "cell_type": "code",
   "execution_count": 3,
   "metadata": {},
   "outputs": [
    {
     "name": "stdout",
     "output_type": "stream",
     "text": [
      "Embedding(10, 3)\n"
     ]
    },
    {
     "data": {
      "text/plain": [
       "[Parameter containing:\n",
       " tensor([[ 1.5984,  0.2825, -0.8304],\n",
       "         [ 1.0124,  0.0339, -1.2716],\n",
       "         [-0.9802,  0.9570, -2.1989],\n",
       "         [ 1.2425,  1.1049,  1.3478],\n",
       "         [-1.0611, -0.0910,  0.9003],\n",
       "         [ 1.3653,  1.0712, -0.8761],\n",
       "         [-0.4109, -1.8273, -0.9426],\n",
       "         [-1.4062, -1.1364,  0.0117],\n",
       "         [ 0.5805, -0.8303, -1.5217],\n",
       "         [ 0.9895,  1.3804,  0.0556]], requires_grad=True)]"
      ]
     },
     "execution_count": 3,
     "metadata": {},
     "output_type": "execute_result"
    }
   ],
   "source": [
    "import torch\n",
    "import torch.nn as nn\n",
    "\n",
    "emb = nn.Embedding(10, 3)\n",
    "print(emb)\n",
    "list(emb.parameters())"
   ]
  },
  {
   "cell_type": "code",
   "execution_count": 4,
   "metadata": {},
   "outputs": [
    {
     "data": {
      "text/plain": [
       "tensor([[ 1.0124,  0.0339, -1.2716],\n",
       "        [-0.9802,  0.9570, -2.1989],\n",
       "        [ 1.2425,  1.1049,  1.3478],\n",
       "        [-1.0611, -0.0910,  0.9003]], grad_fn=<EmbeddingBackward>)"
      ]
     },
     "execution_count": 4,
     "metadata": {},
     "output_type": "execute_result"
    }
   ],
   "source": [
    "labels = torch.LongTensor([1, 2, 3, 4])\n",
    "emb(labels)"
   ]
  },
  {
   "cell_type": "code",
   "execution_count": 10,
   "metadata": {},
   "outputs": [
    {
     "name": "stdout",
     "output_type": "stream",
     "text": [
      "torch.Size([2, 4])\n",
      "[Parameter containing:\n",
      "tensor([[1., 2., 3., 5.],\n",
      "        [6., 7., 8., 9.]])]\n"
     ]
    },
    {
     "data": {
      "text/plain": [
       "tensor([[6., 7., 8., 9.]])"
      ]
     },
     "execution_count": 10,
     "metadata": {},
     "output_type": "execute_result"
    }
   ],
   "source": [
    "weight = torch.FloatTensor([[1., 2., 3., 5.], [6., 7., 8., 9.]])\n",
    "print(weight.shape)\n",
    "\n",
    "emb_pretrained = nn.Embedding.from_pretrained(weight)\n",
    "print(list(emb_pretrained.parameters()))\n",
    "\n",
    "emb_pretrained(torch.LongTensor([1]))"
   ]
  },
  {
   "cell_type": "markdown",
   "metadata": {},
   "source": [
    "与one hot的比较"
   ]
  },
  {
   "cell_type": "code",
   "execution_count": 11,
   "metadata": {},
   "outputs": [
    {
     "name": "stdout",
     "output_type": "stream",
     "text": [
      "['the', 'quick', 'brown', 'fox', 'jumped', 'over', 'the', 'lazy', 'dog']\n"
     ]
    }
   ],
   "source": [
    "sentence = \"the quick brown fox jumped over the lazy dog\"\n",
    "words = sentence.split(' ')\n",
    "print(words)"
   ]
  },
  {
   "cell_type": "code",
   "execution_count": 13,
   "metadata": {},
   "outputs": [
    {
     "name": "stdout",
     "output_type": "stream",
     "text": [
      "{'brown', 'over', 'fox', 'dog', 'the', 'jumped', 'lazy', 'quick'}\n",
      "['brown', 'over', 'fox', 'dog', 'the', 'jumped', 'lazy', 'quick']\n",
      "8\n"
     ]
    }
   ],
   "source": [
    "print(set(words))\n",
    "vocal1 = list(set(words))\n",
    "print(vocal1)\n",
    "print(len(vocal1))"
   ]
  },
  {
   "cell_type": "markdown",
   "metadata": {},
   "source": [
    "one hot encoding"
   ]
  },
  {
   "cell_type": "code",
   "execution_count": 15,
   "metadata": {},
   "outputs": [
    {
     "name": "stdout",
     "output_type": "stream",
     "text": [
      "{'brown': 0, 'over': 1, 'fox': 2, 'dog': 3, 'the': 4, 'jumped': 5, 'lazy': 6, 'quick': 7}\n"
     ]
    }
   ],
   "source": [
    "#convert words to indexes\n",
    "word_to_ix1 = {word: i for i, word in enumerate(vocal1)}\n",
    "print(word_to_ix1)"
   ]
  },
  {
   "cell_type": "code",
   "execution_count": 18,
   "metadata": {},
   "outputs": [
    {
     "name": "stdout",
     "output_type": "stream",
     "text": [
      "['brown', 'over', 'fox', 'dog', 'the', 'jumped', 'lazy', 'quick']\n",
      "tensor([[1, 0, 0, 0, 0, 0, 0, 0],\n",
      "        [0, 1, 0, 0, 0, 0, 0, 0],\n",
      "        [0, 0, 1, 0, 0, 0, 0, 0],\n",
      "        [0, 0, 0, 1, 0, 0, 0, 0],\n",
      "        [0, 0, 0, 0, 1, 0, 0, 0],\n",
      "        [0, 0, 0, 0, 0, 1, 0, 0],\n",
      "        [0, 0, 0, 0, 0, 0, 1, 0],\n",
      "        [0, 0, 0, 0, 0, 0, 0, 1]])\n"
     ]
    }
   ],
   "source": [
    "import torch\n",
    "from torch.nn.functional import one_hot\n",
    "\n",
    "words = torch.tensor([word_to_ix1[w] for w in vocal1], dtype=torch.long)\n",
    "one_hot_encoding = one_hot(words)\n",
    "print(vocal1)\n",
    "print(one_hot_encoding)"
   ]
  }
 ],
 "metadata": {
  "kernelspec": {
   "display_name": "Python 3",
   "language": "python",
   "name": "python3"
  },
  "language_info": {
   "codemirror_mode": {
    "name": "ipython",
    "version": 3
   },
   "file_extension": ".py",
   "mimetype": "text/x-python",
   "name": "python",
   "nbconvert_exporter": "python",
   "pygments_lexer": "ipython3",
   "version": "3.8.3"
  }
 },
 "nbformat": 4,
 "nbformat_minor": 4
}
