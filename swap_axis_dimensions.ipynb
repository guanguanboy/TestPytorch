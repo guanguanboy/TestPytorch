{
 "cells": [
  {
   "cell_type": "markdown",
   "metadata": {},
   "source": [
    "# numpy 中的维度交换\n",
    "\n",
    "- numpy.swapaxes: Interchange two axes of an array.可以用来交换array中任意两个维度，如果要同时交换多个维度则不可以使用这个函数\n",
    "- https://blog.csdn.net/zqislinux/article/details/100567022"
   ]
  },
  {
   "cell_type": "code",
   "execution_count": 4,
   "metadata": {},
   "outputs": [
    {
     "name": "stdout",
     "output_type": "stream",
     "text": [
      "(1, 3)\n",
      "[[1 2 3]]\n",
      "(3, 1)\n",
      "[[1]\n",
      " [2]\n",
      " [3]]\n"
     ]
    }
   ],
   "source": [
    "import numpy as np\n",
    "\n",
    "x = np.array([[1, 2, 3]])\n",
    "print(x.shape)\n",
    "print(x)\n",
    "\n",
    "x_new = np.swapaxes(x, 0, 1)\n",
    "print(x_new.shape)\n",
    "print(x_new)"
   ]
  },
  {
   "cell_type": "markdown",
   "metadata": {},
   "source": [
    "- numpy数组的行列交换\n",
    "- https://blog.csdn.net/weixin_39590453/article/details/111678157"
   ]
  },
  {
   "cell_type": "code",
   "execution_count": 8,
   "metadata": {},
   "outputs": [
    {
     "name": "stdout",
     "output_type": "stream",
     "text": [
      "[[1 2 3]\n",
      " [2 3 4]\n",
      " [1 6 5]\n",
      " [9 3 4]]\n",
      "(4, 3)\n",
      "[[2 1 3]\n",
      " [3 2 4]\n",
      " [6 1 5]\n",
      " [3 9 4]]\n",
      "[[2 1 3]\n",
      " [6 1 5]\n",
      " [3 2 4]\n",
      " [3 9 4]]\n"
     ]
    }
   ],
   "source": [
    "import numpy as np\n",
    "\n",
    "a = np.array([[1,2,3],[2,3,4],[1,6,5],[9,3,4]])\n",
    "\n",
    "print(a)\n",
    "print(a.shape)\n",
    "\n",
    "#交换0，1两列\n",
    "a[:, [1, 0]] = a[:, [0, 1]]\n",
    "print(a)\n",
    "\n",
    "#交换1， 2两行\n",
    "a[[2,1], :] = a[[1,2], :]\n",
    "print(a)"
   ]
  },
  {
   "cell_type": "markdown",
   "metadata": {},
   "source": [
    "# pytorch中的维度交换\n",
    "\n",
    "- 使用permute函数\n",
    "- permute改变...的次序，重新排列\n",
    "- https://blog.csdn.net/BigData_Mining/article/details/105023780"
   ]
  },
  {
   "cell_type": "code",
   "execution_count": 2,
   "metadata": {},
   "outputs": [
    {
     "name": "stdout",
     "output_type": "stream",
     "text": [
      "torch.Size([4, 3, 28, 32])\n",
      "torch.Size([4, 28, 32, 3])\n"
     ]
    }
   ],
   "source": [
    "import torch\n",
    "\n",
    "a = torch.rand(4, 3, 28, 32)\n",
    "print(a.shape)\n",
    "a_permuted = a.permute(0, 2, 3, 1)\n",
    "print(a_permuted.shape)\n"
   ]
  },
  {
   "cell_type": "markdown",
   "metadata": {},
   "source": [
    "- 使用transpose有个限制是只能交换其中两个维度\n",
    "- https://blog.csdn.net/bagba/article/details/107078172"
   ]
  },
  {
   "cell_type": "code",
   "execution_count": 3,
   "metadata": {},
   "outputs": [
    {
     "name": "stdout",
     "output_type": "stream",
     "text": [
      "torch.Size([2, 3, 4])\n",
      "tensor([[[ 0,  1,  2,  3],\n",
      "         [ 4,  5,  6,  7],\n",
      "         [ 8,  9, 10, 11]],\n",
      "\n",
      "        [[12, 13, 14, 15],\n",
      "         [16, 17, 18, 19],\n",
      "         [20, 21, 22, 23]]])\n",
      "torch.Size([4, 3, 2])\n",
      "tensor([[[ 0, 12],\n",
      "         [ 4, 16],\n",
      "         [ 8, 20]],\n",
      "\n",
      "        [[ 1, 13],\n",
      "         [ 5, 17],\n",
      "         [ 9, 21]],\n",
      "\n",
      "        [[ 2, 14],\n",
      "         [ 6, 18],\n",
      "         [10, 22]],\n",
      "\n",
      "        [[ 3, 15],\n",
      "         [ 7, 19],\n",
      "         [11, 23]]])\n",
      "torch.Size([2, 4, 3])\n",
      "tensor([[[ 0,  4,  8],\n",
      "         [ 1,  5,  9],\n",
      "         [ 2,  6, 10],\n",
      "         [ 3,  7, 11]],\n",
      "\n",
      "        [[12, 16, 20],\n",
      "         [13, 17, 21],\n",
      "         [14, 18, 22],\n",
      "         [15, 19, 23]]])\n"
     ]
    }
   ],
   "source": [
    "t = torch.arange(24).reshape(2, 3, 4)\n",
    "print(t.shape)\n",
    "print(t)\n",
    "t_trans_0_2 = t.transpose(0, 2)\n",
    "print(t_trans_0_2.shape)\n",
    "print(t_trans_0_2)\n",
    "t_trans_1_2 = t.transpose(1, 2)\n",
    "print(t_trans_1_2.shape)\n",
    "print(t_trans_1_2)"
   ]
  }
 ],
 "metadata": {
  "kernelspec": {
   "display_name": "Python 3",
   "language": "python",
   "name": "python3"
  },
  "language_info": {
   "codemirror_mode": {
    "name": "ipython",
    "version": 3
   },
   "file_extension": ".py",
   "mimetype": "text/x-python",
   "name": "python",
   "nbconvert_exporter": "python",
   "pygments_lexer": "ipython3",
   "version": "3.8.3"
  }
 },
 "nbformat": 4,
 "nbformat_minor": 4
}
