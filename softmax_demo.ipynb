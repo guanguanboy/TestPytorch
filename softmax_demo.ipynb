{
 "cells": [
  {
   "cell_type": "markdown",
   "metadata": {},
   "source": [
    "Applies the Softmax function to an n-dimensional input Tensor rescaling them so that the elements of the n-dimensional output Tensor lie in the range [0,1] and sum to 1.\n",
    "\n",
    "\n",
    "Returns:\n",
    "\n",
    "    a Tensor of the same dimension and shape as the input with  \n",
    "    values in the range [0, 1] \n",
    "输出tensor的shape与输入tensor的shape是一样的\n",
    "Arguments:\n",
    "\n",
    "    dim (int): A dimension along which Softmax will be computed (so every slice  \n",
    "        along dim will sum to 1).  "
   ]
  },
  {
   "cell_type": "code",
   "execution_count": 9,
   "metadata": {},
   "outputs": [
    {
     "name": "stdout",
     "output_type": "stream",
     "text": [
      "tensor([[0.1421, 0.7977, 0.0602],\n",
      "        [0.0889, 0.2261, 0.6849]])\n",
      "tensor([[0.1421, 0.7977, 0.0602],\n",
      "        [0.0889, 0.2261, 0.6849]])\n",
      "tensor([[0.5876, 0.7587, 0.0726],\n",
      "        [0.4124, 0.2413, 0.9274]])\n",
      "tensor([[0.1421, 0.7977, 0.0602],\n",
      "        [0.0889, 0.2261, 0.6849]])\n"
     ]
    },
    {
     "name": "stderr",
     "output_type": "stream",
     "text": [
      "<ipython-input-9-f9056add13c2>:7: UserWarning: Implicit dimension choice for softmax has been deprecated. Change the call to include dim=X as an argument.\n",
      "  output_default = m_default(input_t)\n"
     ]
    }
   ],
   "source": [
    "import torch.nn as nn\n",
    "import torch\n",
    "\n",
    "input_t = torch.randn(2, 3)\n",
    "\n",
    "m_default = nn.Softmax() #默认情况，等价于dim=1,对一行进行归一化\n",
    "output_default = m_default(input_t)\n",
    "print(output_default)\n",
    "\n",
    "m = nn.Softmax(dim=1) #对一行进行归一化\n",
    "output = m(input_t)\n",
    "print(output)\n",
    "\n",
    "m_dim_0 = nn.Softmax(dim=0) # 对一列进行归一化\n",
    "output_dim_0 = m_dim_0(input_t)\n",
    "print(output_dim_0)\n",
    "\n",
    "m_dim_minus_1 = nn.Softmax(dim=-1)#按照最后一维计算,这里是对一行进行soft归一化\n",
    "output_dim_minus_1 = m_dim_minus_1(input_t)\n",
    "print(output_dim_minus_1)\n"
   ]
  }
 ],
 "metadata": {
  "kernelspec": {
   "display_name": "Python 3",
   "language": "python",
   "name": "python3"
  },
  "language_info": {
   "codemirror_mode": {
    "name": "ipython",
    "version": 3
   },
   "file_extension": ".py",
   "mimetype": "text/x-python",
   "name": "python",
   "nbconvert_exporter": "python",
   "pygments_lexer": "ipython3",
   "version": "3.8.3"
  }
 },
 "nbformat": 4,
 "nbformat_minor": 4
}
