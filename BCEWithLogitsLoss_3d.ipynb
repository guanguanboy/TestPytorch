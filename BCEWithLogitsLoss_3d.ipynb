{
 "cells": [
  {
   "cell_type": "markdown",
   "metadata": {},
   "source": [
    "-  下面的公式证明了可以将3d tensor 输入BCEWithLogitsLoss来计算loss"
   ]
  },
  {
   "cell_type": "code",
   "execution_count": 2,
   "metadata": {},
   "outputs": [
    {
     "name": "stdout",
     "output_type": "stream",
     "text": [
      "tensor([[-0.4089, -1.2471,  0.5907],\n",
      "        [-0.4897, -0.8267, -0.7349],\n",
      "        [ 0.5241, -0.1246, -0.4751]])\n",
      "tensor(0.7193)\n",
      "torch.Size([2, 3, 4])\n",
      "tensor(0.5691)\n"
     ]
    }
   ],
   "source": [
    "import torch\n",
    "import torch.nn as nn\n",
    "\n",
    "input = torch.FloatTensor([[ -0.4089,  -1.2471,  0.5907],\n",
    "        [ -0.4897, -0.8267,  -0.7349],\n",
    "        [ 0.5241,  -0.1246, -0.4751]])\n",
    "print(input)\n",
    "target = torch.FloatTensor([[0, 1, 1],\n",
    "                            [0, 0, 1],\n",
    "                            [1, 0, 1]])\n",
    "\n",
    "m = nn.Sigmoid()\n",
    "sigmoid_res = m(input)\n",
    "loss = nn.BCELoss()\n",
    "# 公式为-1/n * （累加（y*lnx + （1-y）* ln（1-x）））\n",
    "res = loss(sigmoid_res, target)\n",
    "print(res)\n",
    "\n",
    "#BCEWithLogitsLoss就是把Sigmoid-BCELoss合成一步。\n",
    "\n",
    "input2 = torch.randn(2,3,4)\n",
    "print(input2.shape)\n",
    "\n",
    "target2 = torch.randn(2,3,4)\n",
    "loss1 = nn.BCEWithLogitsLoss()\n",
    "#res1 = loss1(input, target)\n",
    "#print(res1) #tensor(0.7193)\n",
    "\n",
    "res2 = loss1(input2, target2)\n",
    "print(res2)"
   ]
  },
  {
   "cell_type": "markdown",
   "metadata": {},
   "source": [
    "- L1 Loss 3d\n",
    "- 下面的操作可以证明，nn.L1Loss可以处理三维的数据\n",
    "\n"
   ]
  },
  {
   "cell_type": "code",
   "execution_count": 5,
   "metadata": {},
   "outputs": [
    {
     "name": "stdout",
     "output_type": "stream",
     "text": [
      "torch.Size([2, 3, 4])\n",
      "tensor(0.9617)\n"
     ]
    }
   ],
   "source": [
    "input2 = torch.randn(2,3,4)\n",
    "print(input2.shape)\n",
    "\n",
    "target2 = torch.randn(2,3,4)\n",
    "\n",
    "loss_L1 = nn.L1Loss()\n",
    "\n",
    "res3 = loss_L1(input2, target2)\n",
    "print(res3)\n",
    "\n"
   ]
  }
 ],
 "metadata": {
  "kernelspec": {
   "display_name": "Python 3",
   "language": "python",
   "name": "python3"
  },
  "language_info": {
   "codemirror_mode": {
    "name": "ipython",
    "version": 3
   },
   "file_extension": ".py",
   "mimetype": "text/x-python",
   "name": "python",
   "nbconvert_exporter": "python",
   "pygments_lexer": "ipython3",
   "version": "3.8.3"
  }
 },
 "nbformat": 4,
 "nbformat_minor": 4
}
