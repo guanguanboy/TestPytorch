{
 "cells": [
  {
   "cell_type": "markdown",
   "metadata": {},
   "source": [
    "# slice类\n",
    "\n",
    "- slice() 函数实现切片对象，主要用在切片操作函数里的参数传递。有两种对象创建方式\n",
    "- class slice(stop)\n",
    "- class slice(start, stop[, step])"
   ]
  },
  {
   "cell_type": "code",
   "execution_count": 6,
   "metadata": {},
   "outputs": [
    {
     "name": "stdout",
     "output_type": "stream",
     "text": [
      "a[:2]= ('a', 'b')\n",
      "b= slice(None, 2, None)\n",
      "type of b:  <class 'slice'>\n",
      "('a', 'b')\n",
      "True\n"
     ]
    }
   ],
   "source": [
    "a = ('a', 'b', 'c', 'd', 'e', 'f', 'g', 'h')\n",
    "print('a[:2]=', a[:2])\n",
    "\n",
    "b = slice(2)\n",
    "print('b=', b)\n",
    "\n",
    "print('type of b: ', type(b))\n",
    "\n",
    "print(a[b])\n",
    "\n",
    "print(a[b] == a[:2])"
   ]
  },
  {
   "cell_type": "code",
   "execution_count": 15,
   "metadata": {},
   "outputs": [
    {
     "name": "stdout",
     "output_type": "stream",
     "text": [
      "odds:  slice(0, None, 2)\n",
      "('a', 'c', 'e', 'g')\n",
      "slice(None, None, -1)\n",
      "('h', 'g', 'f', 'e', 'd', 'c', 'b', 'a')\n",
      "('h', 'g', 'f', 'e', 'd', 'c', 'b', 'a')\n",
      "True\n",
      "('b',)\n",
      "('b',)\n",
      "True\n"
     ]
    }
   ],
   "source": [
    "odds = slice(0, None, 2)\n",
    "print('odds: ', odds)\n",
    "print(a[odds])\n",
    "\n",
    "bw = slice(None, None, -1)\n",
    "print(bw)\n",
    "\n",
    "print(a[::-1]) #reverse tuple\n",
    "\n",
    "print(a[bw])\n",
    "\n",
    "print(a[bw] == a[::-1])\n",
    "\n",
    "print(a[1:3:2])\n",
    "\n",
    "print(a[slice(1, 3, 2)])\n",
    "\n",
    "print(a[slice(1, 3, 2)] == a[1:3:2])"
   ]
  },
  {
   "cell_type": "markdown",
   "metadata": {},
   "source": [
    "# slice(None)"
   ]
  },
  {
   "cell_type": "code",
   "execution_count": 18,
   "metadata": {},
   "outputs": [
    {
     "name": "stdout",
     "output_type": "stream",
     "text": [
      "slice(None, None, None)\n",
      "('a', 'b', 'c', 'd', 'e', 'f', 'g', 'h')\n"
     ]
    }
   ],
   "source": [
    "print(slice(None))\n",
    "print(a[slice(None)])"
   ]
  },
  {
   "cell_type": "markdown",
   "metadata": {},
   "source": [
    "## 真实代码，分割出图像切片"
   ]
  },
  {
   "cell_type": "code",
   "execution_count": 47,
   "metadata": {},
   "outputs": [
    {
     "name": "stdout",
     "output_type": "stream",
     "text": [
      "[range(0, 31), range(0, 64), range(0, 64)]\n",
      "range(0, 31) range(0, 64) range(0, 64)\n",
      "126976\n",
      "<itertools.product object at 0x000001DC55489C40>\n",
      "True\n",
      "(31, 1024, 1024)\n",
      "(1225, 31, 64, 64)\n",
      "(0, 0, 0)\n",
      "0 0\n",
      "1 0\n",
      "2 0\n",
      "s1= (slice(None, None, None), 0, 0, 0)\n",
      "(slice(0, -30, 1), slice(0, -63, 28), slice(0, -63, 28))\n",
      "(1, 35, 35)\n",
      "a.shape= (1225,)\n",
      "b.shape = (1225, 1)\n",
      "(1225,)\n"
     ]
    }
   ],
   "source": [
    "from itertools import product\n",
    "import torch\n",
    "import numpy as np\n",
    "ksizes = [31, 64, 64]\n",
    "strides = [1, 28, 28]\n",
    "args = [range(kz) for kz in ksizes]\n",
    "\n",
    "print(args) #[range(0, 31), range(0, 64), range(0, 64)]\n",
    "\n",
    "print(*args)\n",
    "pro_iter = product(*args)\n",
    "print(sum(1 for _ in pro_iter))\n",
    "sum(1 for _ in pro_iter)\n",
    "print(pro_iter)\n",
    "\n",
    "print(31*64*64 == 126976)\n",
    "\n",
    "array = torch.randn(31, 1024, 1024)\n",
    "data = array.numpy()\n",
    "print(data.shape)\n",
    "\n",
    "V = np.zeros((1225, 31, 64, 64))\n",
    "print(V.shape)\n",
    "for s in product(*args):\n",
    "    print(s)\n",
    "    for i, key in enumerate(s):\n",
    "        print(i, key)\n",
    "    s1 = (slice(None),) + s\n",
    "    print('s1=', s1)\n",
    "    s2 = tuple([slice(key, -ksizes[i]+key+1 or None, strides[i]) for i, key in enumerate(s)])\n",
    "    print(s2)\n",
    "    \n",
    "    patch = data[s2]\n",
    "    print(patch.shape)\n",
    "    \n",
    "    a = V[s1]\n",
    "    print('a.shape=', a.shape)\n",
    "    \n",
    "    b = np.reshape(patch, (-1, 1))\n",
    "    print('b.shape =', b.shape)\n",
    "    b_squeeze = b.squeeze()\n",
    "    print(b_squeeze.shape)\n",
    "    break"
   ]
  }
 ],
 "metadata": {
  "kernelspec": {
   "display_name": "Python 3",
   "language": "python",
   "name": "python3"
  },
  "language_info": {
   "codemirror_mode": {
    "name": "ipython",
    "version": 3
   },
   "file_extension": ".py",
   "mimetype": "text/x-python",
   "name": "python",
   "nbconvert_exporter": "python",
   "pygments_lexer": "ipython3",
   "version": "3.8.3"
  }
 },
 "nbformat": 4,
 "nbformat_minor": 4
}
