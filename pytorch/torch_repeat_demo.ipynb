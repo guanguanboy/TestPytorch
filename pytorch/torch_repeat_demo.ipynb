{
 "cells": [
  {
   "cell_type": "markdown",
   "metadata": {},
   "source": [
    "https://blog.csdn.net/qq_29695701/article/details/89763168"
   ]
  },
  {
   "cell_type": "code",
   "execution_count": 1,
   "metadata": {},
   "outputs": [
    {
     "name": "stdout",
     "output_type": "stream",
     "text": [
      "torch.Size([33, 55])\n"
     ]
    }
   ],
   "source": [
    "import torch\n",
    "\n",
    "a = torch.randn(33,55)\n",
    "print(a.size())"
   ]
  },
  {
   "cell_type": "code",
   "execution_count": 9,
   "metadata": {},
   "outputs": [
    {
     "name": "stdout",
     "output_type": "stream",
     "text": [
      "torch.Size([33, 55])\n",
      "torch.Size([66, 55])\n",
      "torch.Size([33, 110])\n",
      "torch.Size([1, 33, 55])\n",
      "torch.Size([2, 33, 55])\n",
      "torch.Size([1, 66, 55])\n",
      "torch.Size([1, 33, 110])\n",
      "torch.Size([1, 1, 33, 55])\n"
     ]
    }
   ],
   "source": [
    "b = a.repeat(1,1) ## 原始值：torch.Size([33, 55])\n",
    "#repeat(1,1)表示在每一个维度上复制一份，也就是很原来一样\n",
    "print(b.shape)\n",
    "b = a.repeat(2,1)# 原始值：torch.Size([33, 55])，表示第一个通道上复制2份\n",
    "print(b.shape)\n",
    "\n",
    "b = a.repeat(1,2)\n",
    "print(b.shape)\n",
    "\n",
    "b = a.repeat(1,1,1) #在第0维扩展了一个维度\n",
    "print(b.shape)\n",
    "\n",
    "b = a.repeat(2,1,1)\n",
    "print(b.shape) #在第0维扩展了2个维度\n",
    "\n",
    "b = a.repeat(1,2,1)#在第0维扩展一个维度，在第1维复制2份\n",
    "print(b.shape)\n",
    "\n",
    "b = a.repeat(1,1,2)#a.repeat(1,1,2),在第0维扩展一个维度，在第2维复制两份\n",
    "print(b.shape)\n",
    "\n",
    "b = a.repeat(1,1,1,1)#在前面扩展两个维度\n",
    "print(b.shape)"
   ]
  },
  {
   "cell_type": "markdown",
   "metadata": {},
   "source": [
    "epeat()的参数的个数，不能少于被操作的张量的维度的个数，"
   ]
  },
  {
   "cell_type": "code",
   "execution_count": 10,
   "metadata": {},
   "outputs": [
    {
     "ename": "RuntimeError",
     "evalue": "Number of dimensions of repeat dims can not be smaller than number of dimensions of tensor",
     "output_type": "error",
     "traceback": [
      "\u001b[1;31m---------------------------------------------------------------------------\u001b[0m",
      "\u001b[1;31mRuntimeError\u001b[0m                              Traceback (most recent call last)",
      "\u001b[1;32m<ipython-input-10-1ae0a64561c1>\u001b[0m in \u001b[0;36m<module>\u001b[1;34m\u001b[0m\n\u001b[1;32m----> 1\u001b[1;33m \u001b[0ma\u001b[0m\u001b[1;33m.\u001b[0m\u001b[0mrepeat\u001b[0m\u001b[1;33m(\u001b[0m\u001b[1;36m2\u001b[0m\u001b[1;33m)\u001b[0m\u001b[1;33m.\u001b[0m\u001b[0msize\u001b[0m\u001b[1;33m(\u001b[0m\u001b[1;33m)\u001b[0m\u001b[1;33m\u001b[0m\u001b[1;33m\u001b[0m\u001b[0m\n\u001b[0m",
      "\u001b[1;31mRuntimeError\u001b[0m: Number of dimensions of repeat dims can not be smaller than number of dimensions of tensor"
     ]
    }
   ],
   "source": [
    "a.repeat(2).size()"
   ]
  }
 ],
 "metadata": {
  "kernelspec": {
   "display_name": "Python 3",
   "language": "python",
   "name": "python3"
  },
  "language_info": {
   "codemirror_mode": {
    "name": "ipython",
    "version": 3
   },
   "file_extension": ".py",
   "mimetype": "text/x-python",
   "name": "python",
   "nbconvert_exporter": "python",
   "pygments_lexer": "ipython3",
   "version": "3.8.3"
  }
 },
 "nbformat": 4,
 "nbformat_minor": 4
}
