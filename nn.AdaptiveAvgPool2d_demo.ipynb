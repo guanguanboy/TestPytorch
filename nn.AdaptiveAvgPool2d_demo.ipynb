{
 "cells": [
  {
   "cell_type": "code",
   "execution_count": 2,
   "metadata": {},
   "outputs": [
    {
     "name": "stdout",
     "output_type": "stream",
     "text": [
      "torch.Size([16, 64, 1, 1])\n"
     ]
    }
   ],
   "source": [
    "import torch\n",
    "from torch import nn\n",
    "\n",
    "avg_pool = nn.AdaptiveAvgPool2d(1)\n",
    "\n",
    "input_tensor = torch.randn(16, 64, 64, 48)\n",
    "\n",
    "output_t = avg_pool(input_tensor)\n",
    "print(output_t.shape)"
   ]
  },
  {
   "cell_type": "code",
   "execution_count": 4,
   "metadata": {},
   "outputs": [
    {
     "name": "stdout",
     "output_type": "stream",
     "text": [
      "torch.Size([1, 16, 1, 1, 1])\n"
     ]
    }
   ],
   "source": [
    "avg_pool = nn.AdaptiveAvgPool3d(1)\n",
    "\n",
    "input_tensor = torch.randn(1, 16, 64, 64, 48)\n",
    "\n",
    "output_t = avg_pool(input_tensor)\n",
    "print(output_t.shape)"
   ]
  }
 ],
 "metadata": {
  "kernelspec": {
   "display_name": "Python 3",
   "language": "python",
   "name": "python3"
  },
  "language_info": {
   "codemirror_mode": {
    "name": "ipython",
    "version": 3
   },
   "file_extension": ".py",
   "mimetype": "text/x-python",
   "name": "python",
   "nbconvert_exporter": "python",
   "pygments_lexer": "ipython3",
   "version": "3.8.3"
  }
 },
 "nbformat": 4,
 "nbformat_minor": 4
}
