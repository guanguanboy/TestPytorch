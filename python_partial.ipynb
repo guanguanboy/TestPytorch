{
 "cells": [
  {
   "cell_type": "markdown",
   "metadata": {},
   "source": [
    "# python的partial()用法说明\n",
    "\n",
    "- https://blog.csdn.net/sinat_38682860/article/details/102997060\n",
    "- 可以用来\"冻结\"一个函数的参数，并返回\"冻结\"参数后的新函数。\n",
    "- https://blog.csdn.net/xjp_xujiping/article/details/101271882\n",
    "- 函数的partial应用\n",
    " \n",
    "\n",
    "典型的，函数在执行时，要带上所有必要的参数进行调用。然后，有时参数可以在函数被调用之前提前获知。这种情况下，一个函数有一个或多个参数预先就能用上，以便函数能用更少的参数进行调用。\n"
   ]
  },
  {
   "cell_type": "code",
   "execution_count": 2,
   "metadata": {},
   "outputs": [
    {
     "data": {
      "text/plain": [
       "18"
      ]
     },
     "execution_count": 2,
     "metadata": {},
     "output_type": "execute_result"
    }
   ],
   "source": [
    "from functools import partial\n",
    "\n",
    "basetwo = partial(int, base=2)\n",
    "\n",
    "basetwo.__doc__ = 'Convert base 2 string to an int.'\n",
    "\n",
    "basetwo('10010')"
   ]
  },
  {
   "cell_type": "markdown",
   "metadata": {},
   "source": [
    "## example2"
   ]
  },
  {
   "cell_type": "code",
   "execution_count": 9,
   "metadata": {},
   "outputs": [
    {
     "name": "stdout",
     "output_type": "stream",
     "text": [
      "7\n",
      "15\n"
     ]
    }
   ],
   "source": [
    "def add(a, b):\n",
    "    return a + b\n",
    "\n",
    "add(4, 2)\n",
    "\n",
    "plus3=partial(add, 3) #先锁定一个参数 3\n",
    " \n",
    "plus5=partial(add, 5) #先锁定一个参数 5\n",
    " \n",
    "print(plus3(4)) #在plus3中添加第二个参数 4\n",
    "\n",
    "print(plus5(10)) #在plus5中添加第二个参数 10"
   ]
  },
  {
   "cell_type": "code",
   "execution_count": null,
   "metadata": {},
   "outputs": [],
   "source": []
  }
 ],
 "metadata": {
  "kernelspec": {
   "display_name": "Python 3",
   "language": "python",
   "name": "python3"
  },
  "language_info": {
   "codemirror_mode": {
    "name": "ipython",
    "version": 3
   },
   "file_extension": ".py",
   "mimetype": "text/x-python",
   "name": "python",
   "nbconvert_exporter": "python",
   "pygments_lexer": "ipython3",
   "version": "3.8.3"
  }
 },
 "nbformat": 4,
 "nbformat_minor": 4
}
