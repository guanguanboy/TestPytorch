{
 "cells": [
  {
   "cell_type": "markdown",
   "metadata": {},
   "source": [
    "# python中numpy.moveaxis以及numpy.expand_dims的用法介绍\n",
    "\n",
    "- https://blog.csdn.net/chenxueying1993/article/details/80065318\n",
    "- 1. numpy. moveaxis ( a,  source,  destination )\n",
    "- transpose: Permute the dimensions of an array\n",
    "- swapaxes:Interchange two axes of an array"
   ]
  },
  {
   "cell_type": "code",
   "execution_count": 4,
   "metadata": {},
   "outputs": [
    {
     "name": "stdout",
     "output_type": "stream",
     "text": [
      "(4, 5, 3)\n",
      "(5, 3, 4)\n",
      "np.transpose(x).shape= (5, 4, 3)\n",
      "np.swapaxes(x, 0, -1).shape= (5, 4, 3)\n",
      "np.moveaxis(x, [0, 1], [-1, -2]).shape= (5, 4, 3)\n",
      "np.moveaxis(x, [0, 1, 2], [-1, -2, -3]).shape= (5, 4, 3)\n"
     ]
    }
   ],
   "source": [
    "import numpy as np\n",
    "x = np.zeros((3, 4, 5))\n",
    "print(np.moveaxis(x, 0, -1).shape) #将第0维移动到最后一维\n",
    "print(np.moveaxis(x, -1, 0).shape) #将最后一维移动到第0维\n",
    "\n",
    "#These all achieve the same result:\n",
    "print('np.transpose(x).shape=', np.transpose(x).shape)  #转置\n",
    "\n",
    "print('np.swapaxes(x, 0, -1).shape=', np.swapaxes(x, 0, -1).shape) #交换第0维，和最后一维\n",
    "\n",
    "print('np.moveaxis(x, [0, 1], [-1, -2]).shape=',np.moveaxis(x, [0, 1], [-1, -2]).shape) #将第0维移动到最后一维，将第1维，移动到倒数第2维\n",
    "\n",
    "print('np.moveaxis(x, [0, 1, 2], [-1, -2, -3]).shape=', np.moveaxis(x, [0, 1, 2], [-1, -2, -3]).shape)\n",
    "#将第0维移动到最后一维，将第1维，移动到倒数第2维，将第2维移动到倒数第3维"
   ]
  },
  {
   "cell_type": "markdown",
   "metadata": {},
   "source": [
    "- expand_dims(a, axis)\n",
    "就是在axis的那一个轴上把数据加上去，这个数据在axis这个轴的0位置。 \n",
    "\n",
    "例如原本为一维的2个数据，axis=0，则shape变为(1,2),axis=1则shape变为(2,1) \n",
    "再例如 原本为 (2,3),axis=0，则shape变为(1,2,3),axis=1则shape变为(2,1,3)\n",
    "————————————————\n",
    "版权声明：本文为CSDN博主「雨后阳光cxy」的原创文章，遵循CC 4.0 BY-SA版权协议，转载请附上原文出处链接及本声明。\n",
    "原文链接：https://blog.csdn.net/chenxueying1993/article/details/80065318\n",
    "\n",
    "Expand the shape of an array.\n",
    "\n",
    "Insert a new axis that will appear at the axis position in the expanded array shape."
   ]
  },
  {
   "cell_type": "code",
   "execution_count": 12,
   "metadata": {},
   "outputs": [
    {
     "name": "stdout",
     "output_type": "stream",
     "text": [
      "(2,)\n",
      "(1, 2)\n",
      "(1, 2)\n",
      "(1, 2)\n",
      "(2, 1)\n",
      "(2, 1)\n",
      "(2, 1)\n",
      "True\n"
     ]
    }
   ],
   "source": [
    "x = np.array([1,2])\n",
    "print(x.shape) #(2,)\n",
    "\n",
    "y = np.expand_dims(x, axis=0) # equivalent to x[np.newaxis,:] or x[np.newaxis]:\n",
    "print(y.shape) #(1, 2)\n",
    "\n",
    "y = x[np.newaxis,:]\n",
    "print(y.shape) #(1, 2)\n",
    "\n",
    "y = x[np.newaxis] #(1, 2)\n",
    "print(y.shape)\n",
    "\n",
    "y = np.expand_dims(x, axis=1)  # Equivalent to x[:,np.newaxis]\n",
    "print(y.shape) #(2, 1)\n",
    "\n",
    "y = x[:, np.newaxis] #(2, 1)\n",
    "print(y.shape)\n",
    "\n",
    "y = x[:, None] \n",
    "print(y.shape) #(2, 1) #从这里可以看出None与np.newaxis是等价的\n",
    "\n",
    "#Note that some examples may use None instead of np.newaxis. These are the same objects:\n",
    "print(np.newaxis is None)"
   ]
  }
 ],
 "metadata": {
  "kernelspec": {
   "display_name": "Python 3",
   "language": "python",
   "name": "python3"
  },
  "language_info": {
   "codemirror_mode": {
    "name": "ipython",
    "version": 3
   },
   "file_extension": ".py",
   "mimetype": "text/x-python",
   "name": "python",
   "nbconvert_exporter": "python",
   "pygments_lexer": "ipython3",
   "version": "3.8.3"
  }
 },
 "nbformat": 4,
 "nbformat_minor": 4
}
