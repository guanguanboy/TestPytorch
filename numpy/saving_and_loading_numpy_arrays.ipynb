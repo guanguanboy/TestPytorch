{
 "cells": [
  {
   "cell_type": "markdown",
   "metadata": {},
   "source": [
    "## npy\n",
    "\n",
    "- 来源https://www.youtube.com/watch?v=JRXhCmmLbeY\n",
    "- https://blog.csdn.net/m0_37041325/article/details/78006203\n",
    "- https://blog.csdn.net/xiewenbo/article/details/73832027\n",
    "- np.load和np.save是读写磁盘数组数据的两个主要函数，默认情况下，数组是以未压缩的原始二进制格式保存在扩展名为.npy的文件中\n",
    "- "
   ]
  },
  {
   "cell_type": "code",
   "execution_count": 1,
   "metadata": {},
   "outputs": [
    {
     "name": "stdout",
     "output_type": "stream",
     "text": [
      "[[1 2 3]\n",
      " [4 5 6]]\n",
      "[[6 5 4]\n",
      " [3 2 1]]\n"
     ]
    }
   ],
   "source": [
    "import numpy as np\n",
    "\n",
    "a = np.array([[1, 2, 3],\n",
    "             [4, 5, 6]])\n",
    "\n",
    "b = np.array([[6, 5, 4],\n",
    "             [3, 2, 1]])\n",
    "\n",
    "print(a)\n",
    "print(b)"
   ]
  },
  {
   "cell_type": "code",
   "execution_count": 2,
   "metadata": {},
   "outputs": [],
   "source": [
    "np.save(\"a.npy\", a)"
   ]
  },
  {
   "cell_type": "code",
   "execution_count": 11,
   "metadata": {},
   "outputs": [
    {
     "name": "stdout",
     "output_type": "stream",
     "text": [
      "[[1 2 3]\n",
      " [4 5 6]]\n",
      "<class 'numpy.ndarray'>\n"
     ]
    }
   ],
   "source": [
    "a_load = np.load(\"a.npy\") \n",
    "\n",
    "print(a_load)\n",
    "print(type(a_load)) ##加载之后，a_load的类型为numpy.ndarray"
   ]
  },
  {
   "cell_type": "markdown",
   "metadata": {},
   "source": [
    "## npz \n",
    "- 是一个压缩包\n",
    "- 打开之后可以看到压缩包中有两个文件，一个是x.npy,另一个是y.npz"
   ]
  },
  {
   "cell_type": "code",
   "execution_count": 4,
   "metadata": {},
   "outputs": [],
   "source": [
    "np.savez(\"AB.npz\", x=a, y=b)"
   ]
  },
  {
   "cell_type": "code",
   "execution_count": 5,
   "metadata": {},
   "outputs": [
    {
     "name": "stdout",
     "output_type": "stream",
     "text": [
      "<numpy.lib.npyio.NpzFile object at 0x000002197301D6A0>\n"
     ]
    }
   ],
   "source": [
    "arr = np.load(\"AB.npz\")\n",
    "print(arr) # numpy.lib.npyio.NpzFile\n"
   ]
  },
  {
   "cell_type": "code",
   "execution_count": 7,
   "metadata": {},
   "outputs": [
    {
     "name": "stdout",
     "output_type": "stream",
     "text": [
      "[[1 2 3]\n",
      " [4 5 6]]\n",
      "[[6 5 4]\n",
      " [3 2 1]]\n"
     ]
    }
   ],
   "source": [
    "print(arr['x'])\n",
    "\n",
    "print(arr['y'])"
   ]
  },
  {
   "cell_type": "markdown",
   "metadata": {},
   "source": [
    "## 指定内存映射模型\n",
    "- https://blog.csdn.net/qq_42825202/article/details/102620445\n",
    "- 在读取文件时，我们有时候会需要读取npy文件，有时候这样一个文件特别大读取起来非常慢，甚至有可能导致电脑卡死，所以这里记下一个笔记。\n",
    "- 在读取文件的时候只需要添加上读取方式，那么就会使用给定模式对文件进行内存映射，内存映射的矩阵保留在磁盘上，并不是直接全部读取到内存里。\n",
    "- https://docs.scipy.org/doc/numpy-1.12.0/reference/generated/numpy.load.html\n",
    "- If not None, then memory-map the file, using the given mode (see numpy.memmap for a detailed description of the modes). A memory-mapped array is kept on disk. However, it can be accessed and sliced like any ndarray. Memory mapping is especially useful for accessing small fragments of large files without reading the entire file into memory.\n",
    "- mmap_mode : {None, ‘r+’, ‘r’, ‘w+’, ‘c’}, optional\n",
    "\n",
    "-memmap\n",
    "Create a memory-map to an array stored in a file on disk.\n",
    "lib.format.open_memmap\n",
    "Create or load a memory-mapped .npy file.\n"
   ]
  },
  {
   "cell_type": "code",
   "execution_count": null,
   "metadata": {},
   "outputs": [],
   "source": []
  },
  {
   "cell_type": "code",
   "execution_count": null,
   "metadata": {},
   "outputs": [],
   "source": [
    "def load_data(filename,filepath):\n",
    "    x=np.load(filepath+filename,mmap_mode = 'r')\n",
    "    return x\n"
   ]
  },
  {
   "cell_type": "code",
   "execution_count": 10,
   "metadata": {},
   "outputs": [
    {
     "name": "stdout",
     "output_type": "stream",
     "text": [
      "[4 5 6]\n"
     ]
    },
    {
     "data": {
      "text/plain": [
       "memmap([4, 5, 6])"
      ]
     },
     "execution_count": 10,
     "metadata": {},
     "output_type": "execute_result"
    }
   ],
   "source": [
    "# Mem-map the stored array, and then access the second row directly from disk:\n",
    "# 内存映射保存的array，接着从磁盘直接array中的第二行\n",
    "X = np.load('a.npy', mmap_mode='r')\n",
    "print(X[1,:])\n",
    "X[1,:]"
   ]
  }
 ],
 "metadata": {
  "kernelspec": {
   "display_name": "Python 3",
   "language": "python",
   "name": "python3"
  },
  "language_info": {
   "codemirror_mode": {
    "name": "ipython",
    "version": 3
   },
   "file_extension": ".py",
   "mimetype": "text/x-python",
   "name": "python",
   "nbconvert_exporter": "python",
   "pygments_lexer": "ipython3",
   "version": "3.8.3"
  }
 },
 "nbformat": 4,
 "nbformat_minor": 4
}
