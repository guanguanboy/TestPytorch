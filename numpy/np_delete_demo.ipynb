{
 "cells": [
  {
   "cell_type": "markdown",
   "metadata": {},
   "source": [
    "## numpy.delete\n",
    "\n",
    "- Return a new array with sub-arrays along an axis deleted. For a one dimensional array, this returns those entries not returned by arr[obj].\n",
    "\n",
    "- numpy.delete(arr, obj, axis=None)[source]\n",
    "\n",
    "- obj : slice, int or array of ints\n",
    "\n",
    "Indicate which sub-arrays to remove.\n",
    "\n",
    "- The axis along which to delete the subarray defined by obj. If axis is None, obj is applied to the flattened array.\n",
    "\n",
    "- out : ndarray\n",
    "\n",
    "A copy of arr with the elements specified by obj removed. Note that delete does not occur in-place. If axis is None, out is a flattened array."
   ]
  },
  {
   "cell_type": "markdown",
   "metadata": {},
   "source": [
    "https://www.cnblogs.com/andrew-address/p/12783695.html\n",
    "\n",
    "一、函数\n",
    "\n",
    "np.delete(array,obj,axis)\n",
    "\n",
    "二、函数的意思\n",
    "\n",
    "array:需要处理的矩阵\n",
    "\n",
    "obj:需要处理的位置，比如要删除的第一行或者第一行和第二行\n",
    "\n",
    "axis:\n",
    "\n",
    "如果输入为None：array会先按行展开，然后按照obj，删除第obj-1(从0开始)位置的数，返回一个行矩阵。\n",
    "\n",
    "如果输入为0：按行删除\n",
    "\n",
    "如果输入为1：按列删除"
   ]
  },
  {
   "cell_type": "code",
   "execution_count": 5,
   "metadata": {},
   "outputs": [
    {
     "name": "stdout",
     "output_type": "stream",
     "text": [
      "[[ 1  2  3  4]\n",
      " [ 5  6  7  8]\n",
      " [ 9 10 11 12]]\n",
      "[[ 1  2  3  4]\n",
      " [ 9 10 11 12]]\n",
      "[ 1  3  5  7  8  9 10 11 12]\n"
     ]
    }
   ],
   "source": [
    "import numpy as np\n",
    "\n",
    "\n",
    "arr = np.array([[1,2,3,4], [5,6,7,8], [9,10,11,12]])\n",
    "print(arr)\n",
    "\n",
    "print(np.delete(arr, 1, 0)) #将第2个sub array删除，沿着axis=0，也就是将第一维删除\n",
    "\n",
    "sub_array = np.delete(arr, [1,3,5], None) #将第1，3，5个元素删除\n",
    "print(sub_array)"
   ]
  },
  {
   "cell_type": "markdown",
   "metadata": {},
   "source": [
    "## axis输入为None"
   ]
  },
  {
   "cell_type": "code",
   "execution_count": 7,
   "metadata": {},
   "outputs": [
    {
     "name": "stdout",
     "output_type": "stream",
     "text": [
      "[1 2 4 5 6]\n"
     ]
    }
   ],
   "source": [
    "import numpy as np\n",
    "a = np.array([[1,2],[3,4],[5,6]])\n",
    "\n",
    "#axis输入为None\n",
    "a_1 = np.delete(a,2,None) #按行展开后，删除第2 +1个数，因为是从0开始的\n",
    "print(a_1)"
   ]
  },
  {
   "cell_type": "markdown",
   "metadata": {},
   "source": [
    "## axis输入为0\n",
    "- 删除一行"
   ]
  },
  {
   "cell_type": "code",
   "execution_count": 8,
   "metadata": {},
   "outputs": [
    {
     "name": "stdout",
     "output_type": "stream",
     "text": [
      "[[3 4]\n",
      " [5 6]]\n"
     ]
    }
   ],
   "source": [
    "import numpy as np\n",
    "a = np.array([[1,2],[3,4],[5,6]])\n",
    "a_1 = np.delete(a,0,0)  #删除第一行\n",
    "print(a_1)"
   ]
  },
  {
   "cell_type": "markdown",
   "metadata": {},
   "source": [
    "- 删除多行"
   ]
  },
  {
   "cell_type": "code",
   "execution_count": 9,
   "metadata": {},
   "outputs": [
    {
     "name": "stdout",
     "output_type": "stream",
     "text": [
      "[[5 6]]\n"
     ]
    }
   ],
   "source": [
    "import numpy as np\n",
    "a = np.array([[1,2],[3,4],[5,6]])\n",
    "a_1 = np.delete(a,[0,1],0)\n",
    "print(a_1)"
   ]
  },
  {
   "cell_type": "markdown",
   "metadata": {},
   "source": [
    "## axis输入为1\n",
    "\n",
    "- 删除1列"
   ]
  },
  {
   "cell_type": "code",
   "execution_count": 10,
   "metadata": {},
   "outputs": [
    {
     "name": "stdout",
     "output_type": "stream",
     "text": [
      "[[2 7]\n",
      " [4 8]\n",
      " [6 9]]\n"
     ]
    }
   ],
   "source": [
    "import numpy as np\n",
    "a = np.array([[1,2,7],[3,4,8],[5,6,9]])\n",
    "a_1 = np.delete(a,0,1) #删除第一列\n",
    "print(a_1)"
   ]
  },
  {
   "cell_type": "markdown",
   "metadata": {},
   "source": [
    "- 删除多列"
   ]
  },
  {
   "cell_type": "code",
   "execution_count": 12,
   "metadata": {},
   "outputs": [
    {
     "name": "stdout",
     "output_type": "stream",
     "text": [
      "[[2]\n",
      " [4]\n",
      " [6]]\n"
     ]
    }
   ],
   "source": [
    "import numpy as np\n",
    "a = np.array([[1,2,7],[3,4,8],[5,6,9]])\n",
    "a_1 = np.delete(a,[0,2],1) #删除第0列和第2列\n",
    "print(a_1)"
   ]
  }
 ],
 "metadata": {
  "kernelspec": {
   "display_name": "Python 3",
   "language": "python",
   "name": "python3"
  },
  "language_info": {
   "codemirror_mode": {
    "name": "ipython",
    "version": 3
   },
   "file_extension": ".py",
   "mimetype": "text/x-python",
   "name": "python",
   "nbconvert_exporter": "python",
   "pygments_lexer": "ipython3",
   "version": "3.8.3"
  }
 },
 "nbformat": 4,
 "nbformat_minor": 4
}
