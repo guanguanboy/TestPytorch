{
 "cells": [
  {
   "cell_type": "markdown",
   "metadata": {},
   "source": [
    "# indexing ，slicing与 fancy indexing\n",
    "\n",
    "- 首先indexing slicing产生原来array的view，而fancy indexing产生的是copy\n",
    "- In addition to basic single-integer indexing and slicing operations, NumPy supports advanced indexing routines called fancy indexing. Via fancy indexing, we can use tuple or list objects of non-contiguous integer indices to return desired array elements. Since fancy indexing can be performed with non-contiguous sequences, it cannot return a view -- a contiguous slice from memory. Thus, fancy indexing always returns a copy of an array -- it is important to keep that in mind. \n"
   ]
  },
  {
   "cell_type": "code",
   "execution_count": 1,
   "metadata": {},
   "outputs": [],
   "source": [
    "import numpy as np"
   ]
  },
  {
   "cell_type": "markdown",
   "metadata": {},
   "source": [
    "## fancy indexing\n",
    "- 不连续的从原来的array中复制出来一些元素"
   ]
  },
  {
   "cell_type": "code",
   "execution_count": 13,
   "metadata": {},
   "outputs": [
    {
     "name": "stdout",
     "output_type": "stream",
     "text": [
      "[[1 3]\n",
      " [4 6]]\n",
      "[[1 2 3]\n",
      " [4 5 6]]\n",
      "rearrange colums:\n",
      " [[3 1 2]\n",
      " [6 4 5]]\n",
      "[[False False False]\n",
      " [ True  True  True]]\n",
      "[4 5 6]\n"
     ]
    }
   ],
   "source": [
    "ary = np.array([[1, 2, 3],\n",
    "                [4, 5, 6]])\n",
    "\n",
    "print(ary[:, [0, 2]]) # first and and last column\n",
    "\n",
    "this_is_a_copy = ary[:, [0, 2]]\n",
    "this_is_a_copy += 99\n",
    "print(ary)\n",
    "\n",
    "ary[:, [2, 0]] # first and and last column,\n",
    "\n",
    "print('rearrange colums:\\n',ary[:, [2, 0, 1]]) #通过facny indexing 调整了列的顺序\n",
    "\n",
    "ary = np.array([[1, 2, 3],\n",
    "                [4, 5, 6]])\n",
    "\n",
    "greater3_mask = ary > 3\n",
    "print(greater3_mask)\n",
    "\n",
    "print(ary[greater3_mask])\n"
   ]
  },
  {
   "cell_type": "code",
   "execution_count": 11,
   "metadata": {},
   "outputs": [
    {
     "name": "stdout",
     "output_type": "stream",
     "text": [
      "[1 3 5]\n"
     ]
    }
   ],
   "source": [
    "lst = [1, 2, 3, 4, 5]\n",
    "\n",
    "#print(lst[[0, 2, 4]]) #python list 不支持fancy indexing, TypeError: list indices must be integers or slices, not list\n",
    "\n",
    "lst_numpy = np.array([1, 2, 3, 4, 5])\n",
    "print(lst_numpy[[0, 2, 4]])"
   ]
  },
  {
   "cell_type": "markdown",
   "metadata": {},
   "source": [
    "## array indexing\n",
    "- Simple NumPy indexing and slicing works similar to Python lists"
   ]
  },
  {
   "cell_type": "code",
   "execution_count": 6,
   "metadata": {},
   "outputs": [
    {
     "name": "stdout",
     "output_type": "stream",
     "text": [
      "1\n",
      "[1 2]\n",
      "1\n",
      "[1 2 3]\n",
      "[1 4]\n",
      "[[1 2]\n",
      " [4 5]]\n",
      "[[1 2 3]\n",
      " [4 5 6]]\n"
     ]
    }
   ],
   "source": [
    "ary = np.array([1, 2, 3])\n",
    "print(ary[0]) #e retrieve the first element of a one-dimensional array\n",
    "\n",
    "print(ary[:2]) # equivalent to ary[0:2] # how to fetch the first two elements in ary\n",
    "\n",
    "ary = np.array([[1, 2, 3],\n",
    "                [4, 5, 6]])\n",
    "\n",
    "print(ary[0, 0]) # upper left\n",
    "\n",
    "print(ary[0]) # entire first row\n",
    "\n",
    "print(ary[:, 0]) # entire first column\n",
    "\n",
    "print(ary[:, :2]) # first two columns\n",
    "\n",
    "print(ary[:2,:]) # first two rows"
   ]
  }
 ],
 "metadata": {
  "kernelspec": {
   "display_name": "Python 3",
   "language": "python",
   "name": "python3"
  },
  "language_info": {
   "codemirror_mode": {
    "name": "ipython",
    "version": 3
   },
   "file_extension": ".py",
   "mimetype": "text/x-python",
   "name": "python",
   "nbconvert_exporter": "python",
   "pygments_lexer": "ipython3",
   "version": "3.8.3"
  }
 },
 "nbformat": 4,
 "nbformat_minor": 4
}
