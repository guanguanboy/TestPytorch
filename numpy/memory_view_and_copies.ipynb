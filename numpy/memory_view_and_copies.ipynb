{
 "cells": [
  {
   "cell_type": "markdown",
   "metadata": {},
   "source": [
    "It is important to note that basic integer-based indexing and slicing create so-called views of NumPy arrays in memory. Working with views can be highly desirable since it avoids making unnecessary copies of arrays to save memory resources."
   ]
  },
  {
   "cell_type": "code",
   "execution_count": 2,
   "metadata": {},
   "outputs": [
    {
     "data": {
      "text/plain": [
       "array([[100, 101, 102],\n",
       "       [  4,   5,   6]])"
      ]
     },
     "execution_count": 2,
     "metadata": {},
     "output_type": "execute_result"
    }
   ],
   "source": [
    "import numpy as np\n",
    "\n",
    "ary = np.array([[1, 2, 3],\n",
    "               [4, 5, 6]])\n",
    "\n",
    "first_row = ary[0]\n",
    "first_row += 99\n",
    "ary #可以看到ary的值发生了改变\n",
    "#As we can see in the example above, changing the value of first_row also affected the original array. \n",
    "# The reason for this is that ary[0] created a view of the first row in ary, and its elements were then incremented by 99"
   ]
  },
  {
   "cell_type": "markdown",
   "metadata": {},
   "source": [
    "If we are working with NumPy arrays, it is always important to be aware that slicing creates views -- sometimes it is desirable since it can speed up our code by avoiding to create unnecessary copies in memory. However, in certain scenarios we want force a copy of an array; we can do this via the copy method as shown below:\n",
    "numpy 的切片创建了view。但是在特定的情境下，我们需要一个copy，而不是view。我们改变copy不会改变原始数组"
   ]
  },
  {
   "cell_type": "code",
   "execution_count": 3,
   "metadata": {},
   "outputs": [
    {
     "data": {
      "text/plain": [
       "array([103, 104, 105])"
      ]
     },
     "metadata": {},
     "output_type": "display_data"
    },
    {
     "data": {
      "text/plain": [
       "array([[1, 2, 3],\n",
       "       [4, 5, 6]])"
      ]
     },
     "execution_count": 3,
     "metadata": {},
     "output_type": "execute_result"
    }
   ],
   "source": [
    "ary = np.array([[1, 2, 3],\n",
    "                [4, 5, 6]])\n",
    "\n",
    "second_row = ary[1].copy()\n",
    "second_row += 99\n",
    "display(second_row)\n",
    "ary #可以看到ruan"
   ]
  },
  {
   "cell_type": "markdown",
   "metadata": {},
   "source": [
    "fancy indexing return a copy not a view\n",
    "\n",
    "In addition to basic single-integer indexing and slicing operations, NumPy supports advanced indexing routines called fancy indexing. Via fancy indexing, we can use tuple or list objects of non-contiguous integer indices to return desired array elements. Since fancy indexing can be performed with non-contiguous sequences, it cannot return a view -- a contiguous slice from memory. Thus, fancy indexing always returns a copy of an array -- it is important to keep that in mind. "
   ]
  },
  {
   "cell_type": "code",
   "execution_count": 4,
   "metadata": {},
   "outputs": [
    {
     "data": {
      "text/plain": [
       "array([1, 3])"
      ]
     },
     "execution_count": 4,
     "metadata": {},
     "output_type": "execute_result"
    }
   ],
   "source": [
    "lst = np.array([1, 2, 3, 4, 5])\n",
    "lst[[0, 2]]"
   ]
  },
  {
   "cell_type": "code",
   "execution_count": 7,
   "metadata": {},
   "outputs": [
    {
     "name": "stdout",
     "output_type": "stream",
     "text": [
      "[[1 2 3]\n",
      " [4 5 6]]\n",
      "[[100 102]\n",
      " [103 105]]\n"
     ]
    }
   ],
   "source": [
    "ary = np.array([[1, 2, 3],\n",
    "               [4, 5, 6]])\n",
    "\n",
    "ary[:, [0, 2]] #first and last column\n",
    "\n",
    "this_is_a_copy = ary[:, [0, 2]]\n",
    "this_is_a_copy += 99\n",
    "print(ary)\n",
    "print(this_is_a_copy)"
   ]
  },
  {
   "cell_type": "code",
   "execution_count": 8,
   "metadata": {},
   "outputs": [
    {
     "data": {
      "text/plain": [
       "array([[102, 100],\n",
       "       [105, 103]])"
      ]
     },
     "execution_count": 8,
     "metadata": {},
     "output_type": "execute_result"
    }
   ],
   "source": [
    "cp = ary[:, [2, 0]] #shuffle the order of the colums,取出第二列和第0列，并且将第2列放在前面，第0列放在后面\n",
    "cp += 99\n",
    "cp"
   ]
  },
  {
   "cell_type": "markdown",
   "metadata": {},
   "source": [
    "Boolean masks 是另一种形式的fancy indexing方式。所以返回的值也是copy。\n",
    "Note that indexing using Boolean arrays is also considered \"fancy indexing\" and thus returns a copy of the array.\n",
    "\n",
    "Finally, we can also use Boolean masks for indexing -- that is, arrays of True and False values. \n",
    "Consider the following example, where we return all values in the array that are greater than 3:"
   ]
  },
  {
   "cell_type": "code",
   "execution_count": 10,
   "metadata": {},
   "outputs": [
    {
     "data": {
      "text/plain": [
       "array([[False, False, False],\n",
       "       [ True,  True,  True]])"
      ]
     },
     "metadata": {},
     "output_type": "display_data"
    },
    {
     "data": {
      "text/plain": [
       "array([4, 5, 6])"
      ]
     },
     "metadata": {},
     "output_type": "display_data"
    }
   ],
   "source": [
    "ary = np.array([[1,2,3],\n",
    "               [4, 5, 6]])\n",
    "\n",
    "greater3_mask = ary > 3\n",
    "display(greater3_mask)\n",
    "\n",
    "display(ary[greater3_mask]) # using these masks, we can select elements given our desired criteria:"
   ]
  },
  {
   "cell_type": "markdown",
   "metadata": {},
   "source": [
    "我们可以将不同的选择标准通过逻辑运算符 & 或者 | 连接起来。从而进行多个标准的fancy indexing\n",
    "We can also chain different selection criteria using the logical and operator '&' or the logical or operator '|'. The example below demonstrates how we can select array elements that are greater than 3 and divisible by 2:"
   ]
  },
  {
   "cell_type": "code",
   "execution_count": 11,
   "metadata": {},
   "outputs": [
    {
     "data": {
      "text/plain": [
       "array([4, 6])"
      ]
     },
     "execution_count": 11,
     "metadata": {},
     "output_type": "execute_result"
    }
   ],
   "source": [
    "ary[(ary>3) & (ary % 2 == 0)]"
   ]
  },
  {
   "cell_type": "code",
   "execution_count": 12,
   "metadata": {},
   "outputs": [
    {
     "data": {
      "text/plain": [
       "array([[False, False, False],\n",
       "       [ True, False,  True]])"
      ]
     },
     "execution_count": 12,
     "metadata": {},
     "output_type": "execute_result"
    }
   ],
   "source": [
    "(ary>3) & (ary % 2 == 0)"
   ]
  }
 ],
 "metadata": {
  "kernelspec": {
   "display_name": "Python 3",
   "language": "python",
   "name": "python3"
  },
  "language_info": {
   "codemirror_mode": {
    "name": "ipython",
    "version": 3
   },
   "file_extension": ".py",
   "mimetype": "text/x-python",
   "name": "python",
   "nbconvert_exporter": "python",
   "pygments_lexer": "ipython3",
   "version": "3.8.3"
  }
 },
 "nbformat": 4,
 "nbformat_minor": 4
}
