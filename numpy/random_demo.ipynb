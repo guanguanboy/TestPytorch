{
 "cells": [
  {
   "cell_type": "markdown",
   "metadata": {},
   "source": [
    "## numpy 随机数生成"
   ]
  },
  {
   "cell_type": "markdown",
   "metadata": {},
   "source": [
    "numpy.random.randint(low, high=None, size=None, dtype=’l’) \n",
    "输入： \n",
    "low—–为最小值 \n",
    "high—-为最大值 \n",
    "size—–为数组维度大小 \n",
    "dtype—为数据类型，默认的数据类型是np.int。 \n",
    "返回值： \n",
    "返回随机整数或整型数组，范围区间为[low,high），包含low，不包含high； \n",
    "high没有填写时，默认生成随机数的范围是[0，low）"
   ]
  },
  {
   "cell_type": "code",
   "execution_count": 8,
   "metadata": {},
   "outputs": [
    {
     "name": "stdout",
     "output_type": "stream",
     "text": [
      "0\n"
     ]
    }
   ],
   "source": [
    "import numpy as np\n",
    "\n",
    "mode = np.random.randint(0, 4) #返回0到4之间的任何一个整数\n",
    "print(mode)"
   ]
  }
 ],
 "metadata": {
  "kernelspec": {
   "display_name": "Python 3",
   "language": "python",
   "name": "python3"
  },
  "language_info": {
   "codemirror_mode": {
    "name": "ipython",
    "version": 3
   },
   "file_extension": ".py",
   "mimetype": "text/x-python",
   "name": "python",
   "nbconvert_exporter": "python",
   "pygments_lexer": "ipython3",
   "version": "3.8.3"
  }
 },
 "nbformat": 4,
 "nbformat_minor": 4
}
